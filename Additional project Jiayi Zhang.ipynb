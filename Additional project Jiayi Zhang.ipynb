{
 "cells": [
  {
   "cell_type": "code",
   "execution_count": 23,
   "id": "a743bd6e-d0eb-42bc-bd15-0d5effe846be",
   "metadata": {},
   "outputs": [
    {
     "name": "stdout",
     "output_type": "stream",
     "text": [
      "<class 'pandas.core.frame.DataFrame'>\n",
      "RangeIndex: 58 entries, 0 to 57\n",
      "Data columns (total 2 columns):\n",
      " #   Column  Non-Null Count  Dtype  \n",
      "---  ------  --------------  -----  \n",
      " 0   A       41 non-null     float64\n",
      " 1   B       43 non-null     float64\n",
      "dtypes: float64(2)\n",
      "memory usage: 1.0 KB\n",
      "None\n",
      "       A      B\n",
      "0  25.33  26.45\n",
      "1  26.77  27.53\n",
      "2  22.76  20.02\n",
      "3  20.94  22.83\n",
      "4  25.40  28.05\n"
     ]
    }
   ],
   "source": [
    "import pandas as pd\n",
    "\n",
    "# read the dataset\n",
    "data = pd.read_excel(r\"C:\\Users\\zhang\\Desktop\\interexp.xlsx\")\n",
    "\n",
    "# get a glance on data info\n",
    "print(data.info())\n",
    "print(data.head())"
   ]
  },
  {
   "cell_type": "code",
   "execution_count": 24,
   "id": "5a6af552-801f-4c3a-b903-450e1a16323a",
   "metadata": {},
   "outputs": [
    {
     "name": "stdout",
     "output_type": "stream",
     "text": [
      "A    17\n",
      "B    15\n",
      "dtype: int64\n"
     ]
    }
   ],
   "source": [
    "print(data.isnull().sum())  # count NA value\n"
   ]
  },
  {
   "cell_type": "code",
   "execution_count": 1,
   "id": "f9004cfe-f800-4c9c-811f-7f3c0648410c",
   "metadata": {},
   "outputs": [
    {
     "name": "stderr",
     "output_type": "stream",
     "text": [
      "C:\\Users\\zhang\\AppData\\Local\\Temp\\ipykernel_13884\\3295845565.py:20: FutureWarning: A value is trying to be set on a copy of a DataFrame or Series through chained assignment using an inplace method.\n",
      "The behavior will change in pandas 3.0. This inplace method will never work because the intermediate object on which we are setting values always behaves as a copy.\n",
      "\n",
      "For example, when doing 'df[col].method(value, inplace=True)', try using 'df.method({col: value}, inplace=True)' or df[col] = df[col].method(value) instead, to perform the operation inplace on the original object.\n",
      "\n",
      "\n",
      "  df_filled[col].fillna(df_filled[col].mean(), inplace=True)\n"
     ]
    },
    {
     "name": "stdout",
     "output_type": "stream",
     "text": [
      "Convergence at 9 iterations\n"
     ]
    },
    {
     "data": {
      "image/png": "[encoded data removed]",
      "text/plain": [
       "<Figure size 1200x500 with 2 Axes>"
      ]
     },
     "metadata": {},
     "output_type": "display_data"
    }
   ],
   "source": [
    "import numpy as np\n",
    "import pandas as pd\n",
    "import matplotlib.pyplot as plt\n",
    "from scipy.stats import multivariate_normal\n",
    "from numpy.linalg import inv\n",
    "import random\n",
    "\n",
    "np.random.seed(42)\n",
    "random.seed(42)  # set seed to ensure results are reproducible(idea 7)\n",
    "\n",
    "data = pd.read_excel(r\"C:\\Users\\zhang\\Desktop\\interexp.xlsx\")\n",
    "df = pd.DataFrame(data, columns=[\"A\", \"B\"])\n",
    "\n",
    "# Start EM function for missing value imputation (idea 1)\n",
    "def em_impute(df, max_iter=100, tol=1e-6):\n",
    "    # Introduce a latent variable for the missing values (idea 3)\n",
    "    # Using the average of each column to initialize\n",
    "    df_filled = df.copy()\n",
    "    for col in df.columns:\n",
    "        df_filled[col].fillna(df_filled[col].mean(), inplace=True)\n",
    "\n",
    "    # Iteration to optimize\n",
    "    prev_likelihood = -np.inf\n",
    "    for i in range(max_iter):\n",
    "        # E - step: Assume a bivariate normal distribution(idea 2)\n",
    "        mu = df_filled.mean().values  # Mean vector for A and B\n",
    "        sigma = df_filled.cov().values  # Covariance matrix for A and B\n",
    "\n",
    "        for idx in range(len(df)):\n",
    "            if df.iloc[idx].isnull().any():  # Check if there are missing values in this row\n",
    "                obs_idx = ~df.iloc[idx].isnull().values  # True for observed values\n",
    "                mis_idx = df.iloc[idx].isnull().values  # True for missing values\n",
    "                \n",
    "                mu_obs = mu[obs_idx]\n",
    "                mu_mis = mu[mis_idx]\n",
    "                \n",
    "                sigma_obs_obs = sigma[np.ix_(obs_idx, obs_idx)]  # Covariance of observed values\n",
    "                sigma_obs_mis = sigma[np.ix_(obs_idx, mis_idx)]  # Covariance between observed and missing values\n",
    "                sigma_mis_mis = sigma[np.ix_(mis_idx, mis_idx)]  # Covariance of missing values\n",
    "\n",
    "                # Calculate the inverse of the observed covariance matrix\n",
    "                sigma_inv = inv(sigma_obs_obs)\n",
    "                \n",
    "                # Calculate the conditional mean of the missing values given the observed values\n",
    "                mu_cond = mu_mis + sigma_obs_mis.T @ sigma_inv @ (df_filled.iloc[idx, obs_idx] - mu_obs)\n",
    "                \n",
    "                # Impute missing values\n",
    "                df_filled.iloc[idx, mis_idx] = mu_cond\n",
    "\n",
    "        # M - step: Update the mean and covariance with the filled data\n",
    "        mu_new = df_filled.mean().values\n",
    "        sigma_new = df_filled.cov().values\n",
    "\n",
    "        # Calculate the likelihood function\n",
    "        likelihood = np.sum(np.log(multivariate_normal.pdf(df_filled.dropna(), mean=mu_new, cov=sigma_new)))\n",
    "        \n",
    "        # Check for convergence using a small tolerance value\n",
    "        if abs(likelihood - prev_likelihood) < tol:\n",
    "            print(f\"Convergence at {i+1} iterations\")\n",
    "            break\n",
    "        prev_likelihood = likelihood\n",
    "\n",
    "    return df_filled\n",
    "\n",
    "# Using EM algorithm to impute missing values\n",
    "df_imputed = em_impute(df)\n",
    "\n",
    "# Compare the distributions of stimulus A and B before and after imputing missing values using visualization techniques (idea 6)\n",
    "fig, axes = plt.subplots(1, 2, figsize=(12, 5))\n",
    "\n",
    "axes[0].hist(df.dropna()[\"A\"], bins=20, alpha=0.6, label=\"Original A\", color=\"green\")\n",
    "axes[0].hist(df_imputed[\"A\"], bins=20, alpha=0.6, label=\"Imputed A\", color=\"red\")\n",
    "axes[0].set_title(\"Distribution of Stimulus A\")\n",
    "axes[0].legend()\n",
    "\n",
    "axes[1].hist(df.dropna()[\"B\"], bins=20, alpha=0.6, label=\"Original B\", color=\"green\")\n",
    "axes[1].hist(df_imputed[\"B\"], bins=20, alpha=0.6, label=\"Imputed B\", color=\"red\")\n",
    "axes[1].set_title(\"Distribution of Stimulus B\")\n",
    "axes[1].legend()\n",
    "\n",
    "plt.show()\n",
    "\n",
    "# Save the imputed data to a new Excel file for easier review\n",
    "df_imputed.to_excel(\"interexp_fill_bivariate.xlsx\", index=False)\n",
    "\n",
    "#the code perfectly accomplish the idea 1 to idea 7,showing the EM algorithm works step by step\n"
   ]
  },
  {
   "cell_type": "code",
   "execution_count": null,
   "id": "6f2eb8ee-23ed-4d2a-a62d-da2f7b65cf07",
   "metadata": {},
   "outputs": [],
   "source": []
  }
 ],
 "metadata": {
  "kernelspec": {
   "display_name": "Python 3 (ipykernel)",
   "language": "python",
   "name": "python3"
  },
  "language_info": {
   "codemirror_mode": {
    "name": "ipython",
    "version": 3
   },
   "file_extension": ".py",
   "mimetype": "text/x-python",
   "name": "python",
   "nbconvert_exporter": "python",
   "pygments_lexer": "ipython3",
   "version": "3.11.9"
  }
 },
 "nbformat": 4,
 "nbformat_minor": 5
}
