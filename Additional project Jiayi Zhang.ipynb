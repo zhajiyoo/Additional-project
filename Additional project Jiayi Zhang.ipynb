{
 "cells": [
  {
   "cell_type": "code",
   "execution_count": 23,
   "id": "a743bd6e-d0eb-42bc-bd15-0d5effe846be",
   "metadata": {},
   "outputs": [
    {
     "name": "stdout",
     "output_type": "stream",
     "text": [
      "<class 'pandas.core.frame.DataFrame'>\n",
      "RangeIndex: 58 entries, 0 to 57\n",
      "Data columns (total 2 columns):\n",
      " #   Column  Non-Null Count  Dtype  \n",
      "---  ------  --------------  -----  \n",
      " 0   A       41 non-null     float64\n",
      " 1   B       43 non-null     float64\n",
      "dtypes: float64(2)\n",
      "memory usage: 1.0 KB\n",
      "None\n",
      "       A      B\n",
      "0  25.33  26.45\n",
      "1  26.77  27.53\n",
      "2  22.76  20.02\n",
      "3  20.94  22.83\n",
      "4  25.40  28.05\n"
     ]
    }
   ],
   "source": [
    "import pandas as pd\n",
    "\n",
    "# read the dataset\n",
    "data = pd.read_excel(r\"C:\\Users\\zhang\\Desktop\\interexp.xlsx\")\n",
    "\n",
    "# get a glance on data info\n",
    "print(data.info())\n",
    "print(data.head())"
   ]
  },
  {
   "cell_type": "code",
   "execution_count": 24,
   "id": "5a6af552-801f-4c3a-b903-450e1a16323a",
   "metadata": {},
   "outputs": [
    {
     "name": "stdout",
     "output_type": "stream",
     "text": [
      "A    17\n",
      "B    15\n",
      "dtype: int64\n"
     ]
    }
   ],
   "source": [
    "print(data.isnull().sum())  # count NA value\n"
   ]
  },
  {
   "cell_type": "code",
   "execution_count": 27,
   "id": "f9004cfe-f800-4c9c-811f-7f3c0648410c",
   "metadata": {},
   "outputs": [
    {
     "ename": "KeyError",
     "evalue": "\"None of [Index(['Stimulus_A', 'Stimulus_B'], dtype='object')] are in the [columns]\"",
     "output_type": "error",
     "traceback": [
      "\u001b[1;31m---------------------------------------------------------------------------\u001b[0m",
      "\u001b[1;31mKeyError\u001b[0m                                  Traceback (most recent call last)",
      "Cell \u001b[1;32mIn[27], line 46\u001b[0m\n\u001b[0;32m     41\u001b[0m     \u001b[38;5;28;01mreturn\u001b[39;00m data_missing\n\u001b[0;32m     43\u001b[0m \u001b[38;5;66;03m# Step 7: Prepare the data for EM imputation\u001b[39;00m\n\u001b[0;32m     44\u001b[0m \u001b[38;5;66;03m# Assume that 'Stimulus_A' and 'Stimulus_B' are the column names in the interexp dataset.\u001b[39;00m\n\u001b[0;32m     45\u001b[0m \u001b[38;5;66;03m# If your dataset uses different column names, adjust the code accordingly.\u001b[39;00m\n\u001b[1;32m---> 46\u001b[0m data_missing \u001b[38;5;241m=\u001b[39m \u001b[43mdata\u001b[49m\u001b[43m[\u001b[49m\u001b[43m[\u001b[49m\u001b[38;5;124;43m'\u001b[39;49m\u001b[38;5;124;43mStimulus_A\u001b[39;49m\u001b[38;5;124;43m'\u001b[39;49m\u001b[43m,\u001b[49m\u001b[43m \u001b[49m\u001b[38;5;124;43m'\u001b[39;49m\u001b[38;5;124;43mStimulus_B\u001b[39;49m\u001b[38;5;124;43m'\u001b[39;49m\u001b[43m]\u001b[49m\u001b[43m]\u001b[49m\u001b[38;5;241m.\u001b[39mvalues\n\u001b[0;32m     48\u001b[0m \u001b[38;5;66;03m# Step 8: Run the EM algorithm to impute missing values\u001b[39;00m\n\u001b[0;32m     49\u001b[0m data_imputed \u001b[38;5;241m=\u001b[39m em_algorithm(data_missing)\n",
      "File \u001b[1;32m~\\anaconda3\\envs\\dasc_5410\\Lib\\site-packages\\pandas\\core\\frame.py:4108\u001b[0m, in \u001b[0;36mDataFrame.__getitem__\u001b[1;34m(self, key)\u001b[0m\n\u001b[0;32m   4106\u001b[0m     \u001b[38;5;28;01mif\u001b[39;00m is_iterator(key):\n\u001b[0;32m   4107\u001b[0m         key \u001b[38;5;241m=\u001b[39m \u001b[38;5;28mlist\u001b[39m(key)\n\u001b[1;32m-> 4108\u001b[0m     indexer \u001b[38;5;241m=\u001b[39m \u001b[38;5;28;43mself\u001b[39;49m\u001b[38;5;241;43m.\u001b[39;49m\u001b[43mcolumns\u001b[49m\u001b[38;5;241;43m.\u001b[39;49m\u001b[43m_get_indexer_strict\u001b[49m\u001b[43m(\u001b[49m\u001b[43mkey\u001b[49m\u001b[43m,\u001b[49m\u001b[43m \u001b[49m\u001b[38;5;124;43m\"\u001b[39;49m\u001b[38;5;124;43mcolumns\u001b[39;49m\u001b[38;5;124;43m\"\u001b[39;49m\u001b[43m)\u001b[49m[\u001b[38;5;241m1\u001b[39m]\n\u001b[0;32m   4110\u001b[0m \u001b[38;5;66;03m# take() does not accept boolean indexers\u001b[39;00m\n\u001b[0;32m   4111\u001b[0m \u001b[38;5;28;01mif\u001b[39;00m \u001b[38;5;28mgetattr\u001b[39m(indexer, \u001b[38;5;124m\"\u001b[39m\u001b[38;5;124mdtype\u001b[39m\u001b[38;5;124m\"\u001b[39m, \u001b[38;5;28;01mNone\u001b[39;00m) \u001b[38;5;241m==\u001b[39m \u001b[38;5;28mbool\u001b[39m:\n",
      "File \u001b[1;32m~\\anaconda3\\envs\\dasc_5410\\Lib\\site-packages\\pandas\\core\\indexes\\base.py:6200\u001b[0m, in \u001b[0;36mIndex._get_indexer_strict\u001b[1;34m(self, key, axis_name)\u001b[0m\n\u001b[0;32m   6197\u001b[0m \u001b[38;5;28;01melse\u001b[39;00m:\n\u001b[0;32m   6198\u001b[0m     keyarr, indexer, new_indexer \u001b[38;5;241m=\u001b[39m \u001b[38;5;28mself\u001b[39m\u001b[38;5;241m.\u001b[39m_reindex_non_unique(keyarr)\n\u001b[1;32m-> 6200\u001b[0m \u001b[38;5;28;43mself\u001b[39;49m\u001b[38;5;241;43m.\u001b[39;49m\u001b[43m_raise_if_missing\u001b[49m\u001b[43m(\u001b[49m\u001b[43mkeyarr\u001b[49m\u001b[43m,\u001b[49m\u001b[43m \u001b[49m\u001b[43mindexer\u001b[49m\u001b[43m,\u001b[49m\u001b[43m \u001b[49m\u001b[43maxis_name\u001b[49m\u001b[43m)\u001b[49m\n\u001b[0;32m   6202\u001b[0m keyarr \u001b[38;5;241m=\u001b[39m \u001b[38;5;28mself\u001b[39m\u001b[38;5;241m.\u001b[39mtake(indexer)\n\u001b[0;32m   6203\u001b[0m \u001b[38;5;28;01mif\u001b[39;00m \u001b[38;5;28misinstance\u001b[39m(key, Index):\n\u001b[0;32m   6204\u001b[0m     \u001b[38;5;66;03m# GH 42790 - Preserve name from an Index\u001b[39;00m\n",
      "File \u001b[1;32m~\\anaconda3\\envs\\dasc_5410\\Lib\\site-packages\\pandas\\core\\indexes\\base.py:6249\u001b[0m, in \u001b[0;36mIndex._raise_if_missing\u001b[1;34m(self, key, indexer, axis_name)\u001b[0m\n\u001b[0;32m   6247\u001b[0m \u001b[38;5;28;01mif\u001b[39;00m nmissing:\n\u001b[0;32m   6248\u001b[0m     \u001b[38;5;28;01mif\u001b[39;00m nmissing \u001b[38;5;241m==\u001b[39m \u001b[38;5;28mlen\u001b[39m(indexer):\n\u001b[1;32m-> 6249\u001b[0m         \u001b[38;5;28;01mraise\u001b[39;00m \u001b[38;5;167;01mKeyError\u001b[39;00m(\u001b[38;5;124mf\u001b[39m\u001b[38;5;124m\"\u001b[39m\u001b[38;5;124mNone of [\u001b[39m\u001b[38;5;132;01m{\u001b[39;00mkey\u001b[38;5;132;01m}\u001b[39;00m\u001b[38;5;124m] are in the [\u001b[39m\u001b[38;5;132;01m{\u001b[39;00maxis_name\u001b[38;5;132;01m}\u001b[39;00m\u001b[38;5;124m]\u001b[39m\u001b[38;5;124m\"\u001b[39m)\n\u001b[0;32m   6251\u001b[0m     not_found \u001b[38;5;241m=\u001b[39m \u001b[38;5;28mlist\u001b[39m(ensure_index(key)[missing_mask\u001b[38;5;241m.\u001b[39mnonzero()[\u001b[38;5;241m0\u001b[39m]]\u001b[38;5;241m.\u001b[39munique())\n\u001b[0;32m   6252\u001b[0m     \u001b[38;5;28;01mraise\u001b[39;00m \u001b[38;5;167;01mKeyError\u001b[39;00m(\u001b[38;5;124mf\u001b[39m\u001b[38;5;124m\"\u001b[39m\u001b[38;5;132;01m{\u001b[39;00mnot_found\u001b[38;5;132;01m}\u001b[39;00m\u001b[38;5;124m not in index\u001b[39m\u001b[38;5;124m\"\u001b[39m)\n",
      "\u001b[1;31mKeyError\u001b[0m: \"None of [Index(['Stimulus_A', 'Stimulus_B'], dtype='object')] are in the [columns]\""
     ]
    }
   ],
   "source": [
    "import numpy as np\n",
    "import pandas as pd\n",
    "import matplotlib.pyplot as plt\n",
    "from scipy.stats import multivariate_normal\n",
    "\n",
    "# Step 3: Simulating the EM algorithm for missing value imputation\n",
    "def em_algorithm(data_missing, max_iter=100):\n",
    "    n_samples, n_features = data_missing.shape\n",
    "    \n",
    "    # Step 4: Initialize the mean and covariance of the complete data\n",
    "    # Use the means and covariances of the available data for initialization\n",
    "    data_complete = data_missing.copy()\n",
    "    data_complete[np.isnan(data_complete)] = np.nanmean(data_missing, axis=0)\n",
    "    \n",
    "    mean_estimate = np.nanmean(data_complete, axis=0)\n",
    "    cov_estimate = np.cov(data_complete.T, nan_policy='omit')\n",
    "    \n",
    "    for iteration in range(max_iter):\n",
    "        # Step 5: E-step (Impute missing values using current estimates)\n",
    "        for i in range(n_samples):\n",
    "            if np.any(np.isnan(data_missing[i])):\n",
    "                # Predict missing values based on current mean and covariance\n",
    "                missing_indices = np.where(np.isnan(data_missing[i]))[0]\n",
    "                observed_indices = np.where(~np.isnan(data_missing[i]))[0]\n",
    "                \n",
    "                # Conditioning on observed values\n",
    "                mu_cond = mean_estimate[observed_indices]\n",
    "                cov_cond = cov_estimate[np.ix_(observed_indices, observed_indices)]\n",
    "                cov_cross = cov_estimate[np.ix_(observed_indices, missing_indices)]\n",
    "                \n",
    "                # Impute missing values using conditional expectation\n",
    "                inv_cov_cond = np.linalg.inv(cov_cond)\n",
    "                mean_missing_given_observed = mu_cond + cov_cross.dot(inv_cov_cond).dot(data_missing[i, observed_indices] - mu_cond)\n",
    "                \n",
    "                data_missing[i, missing_indices] = mean_missing_given_observed\n",
    "                \n",
    "        # Step 6: M-step (Update estimates of the mean and covariance)\n",
    "        mean_estimate = np.nanmean(data_missing, axis=0)\n",
    "        cov_estimate = np.cov(data_missing.T, nan_policy='omit')\n",
    "    \n",
    "    return data_missing\n",
    "\n",
    "# Step 7: Prepare the data for EM imputation\n",
    "# Assume that 'Stimulus_A' and 'Stimulus_B' are the column names in the interexp dataset.\n",
    "# If your dataset uses different column names, adjust the code accordingly.\n",
    "data_missing = data[['Stimulus_A', 'Stimulus_B']].values\n",
    "\n",
    "# Step 8: Run the EM algorithm to impute missing values\n",
    "data_imputed = em_algorithm(data_missing)\n",
    "\n",
    "# Step 9: Visualize the distributions before and after imputation\n",
    "\n",
    "# Before imputation (with missing values)\n",
    "plt.figure(figsize=(12, 6))\n",
    "\n",
    "# Before imputation\n",
    "plt.subplot(1, 2, 1)\n",
    "plt.scatter(data_missing[:, 0], data_missing[:, 1], alpha=0.5, label='Missing Data')\n",
    "plt.title('Before Imputation (Missing Values)')\n",
    "plt.xlabel('Stimulus A')\n",
    "plt.ylabel('Stimulus B')\n",
    "plt.grid(True)\n",
    "\n",
    "# After imputation\n",
    "plt.subplot(1, 2, 2)\n",
    "plt.scatter(data_imputed[:, 0], data_imputed[:, 1], alpha=0.5, label='Imputed Data', color='orange')\n",
    "plt.title('After Imputation (Imputed Values)')\n",
    "plt.xlabel('Stimulus A')\n",
    "plt.ylabel('Stimulus B')\n",
    "plt.grid(True)\n",
    "\n",
    "plt.tight_layout()\n",
    "plt.show()\n",
    "\n",
    "# Step 10: Ensure reproducibility of results\n",
    "np.random.seed(42)\n",
    "\n",
    "\n",
    "\n"
   ]
  },
  {
   "cell_type": "code",
   "execution_count": null,
   "id": "cefe6abb-560f-4e4a-8864-37f39ff7dda9",
   "metadata": {},
   "outputs": [],
   "source": []
  }
 ],
 "metadata": {
  "kernelspec": {
   "display_name": "Python 3 (ipykernel)",
   "language": "python",
   "name": "python3"
  },
  "language_info": {
   "codemirror_mode": {
    "name": "ipython",
    "version": 3
   },
   "file_extension": ".py",
   "mimetype": "text/x-python",
   "name": "python",
   "nbconvert_exporter": "python",
   "pygments_lexer": "ipython3",
   "version": "3.11.9"
  }
 },
 "nbformat": 4,
 "nbformat_minor": 5
}
